{
 "cells": [
  {
   "cell_type": "code",
   "execution_count": null,
   "metadata": {},
   "outputs": [],
   "source": [
    "import json\n",
    "import matplotlib.pyplot as plt\n",
    "from pathlib import Path\n",
    "import random\n",
    "\n",
    "import numpy as np"
   ]
  },
  {
   "cell_type": "markdown",
   "metadata": {},
   "source": [
    "### Read dataset"
   ]
  },
  {
   "cell_type": "code",
   "execution_count": null,
   "metadata": {},
   "outputs": [],
   "source": [
    "dataset_dir = Path(\"../data/final/2025-08-18-08-46-15\")\n",
    "link_to_freq_path = Path(\"../data/processed/2025-08-18-07-41-21/link_to_freq.json\")\n",
    "\n",
    "dataset_path = dataset_dir / \"dataset.jsonl\"\n",
    "link_expansion_count_path = dataset_dir / \"link_expansion_count.json\"\n"
   ]
  },
  {
   "cell_type": "code",
   "execution_count": null,
   "metadata": {},
   "outputs": [],
   "source": [
    "def read_jsonl_stream(filename):\n",
    "    with open(filename, \"r\") as file:\n",
    "        for line in file:\n",
    "            yield json.loads(line.strip())\n",
    "\n",
    "\n",
    "n_tokens = {}\n",
    "n_links_expanded = {}\n",
    "titles = set()\n",
    "\n",
    "for sample in read_jsonl_stream(dataset_path):\n",
    "    title = sample[\"title\"]\n",
    "    titles.add(title)\n",
    "    n_links_expanded[title] = sample[\"n_links_expanded\"]\n",
    "    n_tokens[title] = sample[\"n_tokens\"]"
   ]
  },
  {
   "cell_type": "markdown",
   "metadata": {},
   "source": [
    "### Token Count Distribution"
   ]
  },
  {
   "cell_type": "code",
   "execution_count": null,
   "metadata": {},
   "outputs": [],
   "source": [
    "token_counts = list(n_tokens.values())\n",
    "\n",
    "print(f\"Min tokens: {np.min(token_counts):,}\")\n",
    "print(f\"Max tokens: {np.max(token_counts):,}\")\n",
    "print(f\"Mean tokens: {np.mean(token_counts):,.2f}\")\n",
    "\n",
    "plt.hist(token_counts, bins=50, color=\"darkorange\", edgecolor=\"black\")\n",
    "plt.xlabel(\"Number of Tokens\")\n",
    "plt.ylabel(\"Number of Samples\")\n",
    "plt.title(\"Distribution of Token Counts per Sample\")\n",
    "plt.show()"
   ]
  },
  {
   "cell_type": "markdown",
   "metadata": {},
   "source": [
    "### Distribution of Number of Links Expanded per Sample"
   ]
  },
  {
   "cell_type": "code",
   "execution_count": null,
   "metadata": {},
   "outputs": [],
   "source": [
    "links_expanded_values = list(n_links_expanded.values())\n",
    "\n",
    "plt.hist(links_expanded_values, bins=30, color=\"mediumseagreen\", edgecolor=\"black\")\n",
    "plt.xlabel(\"Number of Links Expanded\")\n",
    "plt.ylabel(\"Number of Samples\")\n",
    "plt.title(\"Distribution of Links Expanded per Sample\")\n",
    "plt.yscale(\"log\")\n",
    "plt.show()"
   ]
  },
  {
   "cell_type": "markdown",
   "metadata": {},
   "source": [
    "### Link Expansion Counts\n"
   ]
  },
  {
   "cell_type": "code",
   "execution_count": null,
   "metadata": {},
   "outputs": [],
   "source": [
    "with open(link_expansion_count_path, \"r\", encoding=\"utf-8\") as f:\n",
    "    link_expansion_count = json.load(f)\n",
    "\n",
    "link_expanded_counts = list(link_expansion_count.values())\n",
    "\n",
    "plt.figure(figsize=(8, 5))\n",
    "plt.hist(link_expanded_counts, bins=50, color=\"cornflowerblue\", edgecolor=\"black\", log=True)\n",
    "plt.xlabel(\"Number of Times Link Expanded\")\n",
    "plt.ylabel(\"Number of Links\")\n",
    "plt.title(\"Distribution of Link Expansion Counts\")\n",
    "plt.show()\n",
    "\n"
   ]
  },
  {
   "cell_type": "markdown",
   "metadata": {},
   "source": [
    "### Print random sample\n"
   ]
  },
  {
   "cell_type": "code",
   "execution_count": null,
   "metadata": {},
   "outputs": [],
   "source": [
    "def get_random_title_and_text(token_threshold=0):\n",
    "    # Find all titles with more than the specified number of tokens\n",
    "    titles_over_threshold = [title for title, n_tokens in n_tokens.items() if n_tokens > token_threshold]\n",
    "\n",
    "    print(f\"Number of titles with more than {token_threshold} tokens: {len(titles_over_threshold)}\")\n",
    "\n",
    "    if titles_over_threshold:\n",
    "        # Pick a random title from the list\n",
    "        random_title = random.choice(titles_over_threshold)\n",
    "\n",
    "        # Find the text for the given title by iterating through the dataset\n",
    "        found_text = None\n",
    "        for sample in read_jsonl_stream(dataset_path):\n",
    "            if sample.get(\"title\") == random_title:\n",
    "                found_text = sample.get(\"expanded_text\")\n",
    "                break\n",
    "\n",
    "        if found_text is not None:\n",
    "            print(f\"Text for random title '{random_title}':\\n\")\n",
    "            print(found_text)  # Print first 2000 characters for inspection\n",
    "        else:\n",
    "            print(f\"Title '{random_title}' not found in dataset.\")\n",
    "\n",
    "get_random_title_and_text()"
   ]
  },
  {
   "cell_type": "markdown",
   "metadata": {},
   "source": [
    "### Print sample for a specific title\n"
   ]
  },
  {
   "cell_type": "code",
   "execution_count": null,
   "metadata": {},
   "outputs": [],
   "source": [
    "def print_text_for_title(specific_title):\n",
    "    \"\"\"\n",
    "    Find and print the expanded text for a specific title from the dataset.\n",
    "    \"\"\"\n",
    "    found_text = None\n",
    "    for sample in read_jsonl_stream(dataset_path):\n",
    "        if sample.get(\"title\") == specific_title:\n",
    "            found_text = sample.get(\"expanded_text\")\n",
    "            break\n",
    "\n",
    "    if found_text is not None:\n",
    "        print(f\"Text for title '{specific_title}':\\n\")\n",
    "        print(found_text)\n",
    "    else:\n",
    "        print(f\"Title '{specific_title}' not found in dataset.\")\n",
    "\n",
    "# Example usage:\n",
    "print_text_for_title(\"slaget ved chancellorsville\")"
   ]
  }
 ],
 "metadata": {
  "kernelspec": {
   "display_name": ".venv",
   "language": "python",
   "name": "python3"
  },
  "language_info": {
   "codemirror_mode": {
    "name": "ipython",
    "version": 3
   },
   "file_extension": ".py",
   "mimetype": "text/x-python",
   "name": "python",
   "nbconvert_exporter": "python",
   "pygments_lexer": "ipython3",
   "version": "3.12.7"
  }
 },
 "nbformat": 4,
 "nbformat_minor": 2
}
