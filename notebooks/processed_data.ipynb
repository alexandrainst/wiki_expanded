{
 "cells": [
  {
   "cell_type": "code",
   "execution_count": null,
   "metadata": {},
   "outputs": [],
   "source": [
    "import json\n",
    "import matplotlib.pyplot as plt\n",
    "from pathlib import Path"
   ]
  },
  {
   "cell_type": "code",
   "execution_count": null,
   "metadata": {},
   "outputs": [],
   "source": [
    "processed_dir = Path(\"../data/processed/2025-08-14-07-58-11\")\n",
    "\n",
    "title_to_text_path = processed_dir / \"title_to_text.json\"\n",
    "link_to_freq_path = processed_dir / \"link_to_freq.json\"\n",
    "title_to_links_path = processed_dir / \"title_to_links.json\"\n",
    "title_to_tokens_path = processed_dir / \"title_to_tokens.json\""
   ]
  },
  {
   "cell_type": "markdown",
   "metadata": {},
   "source": [
    "### Token count distribution"
   ]
  },
  {
   "cell_type": "code",
   "execution_count": null,
   "metadata": {},
   "outputs": [],
   "source": [
    "token_counts = {}\n",
    "\n",
    "with open(title_to_tokens_path, \"r\", encoding=\"utf-8\") as f:\n",
    "    data = json.load(f)\n",
    "    for title, tokens in data.items():\n",
    "        token_counts[title] = len(tokens)"
   ]
  },
  {
   "cell_type": "code",
   "execution_count": null,
   "metadata": {},
   "outputs": [],
   "source": [
    "plt.figure(figsize=(10, 6))\n",
    "plt.hist(token_counts.values(), bins=50, color=\"skyblue\", edgecolor=\"black\")\n",
    "plt.title(\"Distribution of Article Token Counts\")\n",
    "plt.xlabel(\"Token Count\")\n",
    "plt.ylabel(\"Number of Articles\")\n",
    "plt.yscale(\"log\")\n",
    "\n",
    "plt.grid(True)\n",
    "plt.show()\n",
    "\n",
    "# Show top 10 titles of longest articles by token count\n",
    "top_10 = sorted(token_counts.items(), key=lambda x: x[1], reverse=True)[:10]\n",
    "print(\"Top 10 Longest Articles (by token count):\")\n",
    "for i, (title, count) in enumerate(top_10, 1):\n",
    "    print(f\"{i}. {title} ({count} tokens)\")"
   ]
  },
  {
   "cell_type": "markdown",
   "metadata": {},
   "source": [
    "### Link Frequency Distribution\n"
   ]
  },
  {
   "cell_type": "code",
   "execution_count": null,
   "metadata": {},
   "outputs": [],
   "source": [
    "# Read the link_to_freq.json file\n",
    "with open(link_to_freq_path, \"r\", encoding=\"utf-8\") as f:\n",
    "    link_freq_dict = json.load(f)\n",
    "\n",
    "# Plot histogram of frequencies\n",
    "plt.figure(figsize=(10, 6))\n",
    "plt.hist(link_freq_dict.values(), bins=50, color=\"salmon\", edgecolor=\"black\")\n",
    "plt.title(\"Distribution of Link Frequencies\")\n",
    "plt.xlabel(\"Number of Articles Link Appears In\")\n",
    "plt.ylabel(\"Number of Links\")\n",
    "plt.yscale(\"log\")\n",
    "plt.grid(True)\n",
    "plt.show()\n",
    "\n",
    "# Show top 10 most frequent links\n",
    "top_10_links = sorted(link_freq_dict.items(), key=lambda x: x[1], reverse=True)[:10]\n",
    "print(\"Top 10 Most Frequent Links:\")\n",
    "for i, (link, freq) in enumerate(top_10_links, 1):\n",
    "    print(f\"{i}. {link} ({freq} articles)\")"
   ]
  },
  {
   "cell_type": "markdown",
   "metadata": {},
   "source": [
    "### Distribution of Number of Links per Article\n"
   ]
  },
  {
   "cell_type": "code",
   "execution_count": null,
   "metadata": {},
   "outputs": [],
   "source": [
    "# Read the title_to_links.json file\n",
    "with open(title_to_links_path, \"r\", encoding=\"utf-8\") as f:\n",
    "    title_to_links = json.load(f)\n",
    "\n",
    "# Count the number of links per article\n",
    "link_counts = [len(links) for links in title_to_links.values()]\n",
    "\n",
    "# Count how many articles have 0 links\n",
    "num_zero_link_articles = sum(1 for count in link_counts if count == 0)\n",
    "print(f\"Number of articles with 0 links: {num_zero_link_articles}\")\n",
    "\n",
    "# Plot histogram of link count frequencies\n",
    "plt.figure(figsize=(10, 6))\n",
    "plt.hist(link_counts, bins=50, color=\"mediumseagreen\", edgecolor=\"black\")\n",
    "plt.title(\"Distribution of Number of Links per Article\")\n",
    "plt.xlabel(\"Number of Links in Article\")\n",
    "plt.ylabel(\"Number of Articles\")\n",
    "plt.yscale(\"log\")\n",
    "plt.grid(True)\n",
    "plt.show()\n",
    "\n",
    "# Show top 10 articles with most links\n",
    "top_10_link_articles = sorted(\n",
    "    title_to_links.items(), key=lambda x: len(x[1]), reverse=True\n",
    ")[:10]\n",
    "print(\"Top 10 Articles with Most Links:\")\n",
    "for i, (title, links) in enumerate(top_10_link_articles, 1):\n",
    "    print(f\"{i}. {title} ({len(links)} links)\")"
   ]
  }
 ],
 "metadata": {
  "kernelspec": {
   "display_name": ".venv",
   "language": "python",
   "name": "python3"
  },
  "language_info": {
   "codemirror_mode": {
    "name": "ipython",
    "version": 3
   },
   "file_extension": ".py",
   "mimetype": "text/x-python",
   "name": "python",
   "nbconvert_exporter": "python",
   "pygments_lexer": "ipython3",
   "version": "3.12.7"
  }
 },
 "nbformat": 4,
 "nbformat_minor": 2
}
